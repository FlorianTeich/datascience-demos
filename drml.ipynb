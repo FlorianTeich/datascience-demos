{
 "cells": [
  {
   "cell_type": "code",
   "execution_count": null,
   "id": "e5002f66",
   "metadata": {},
   "outputs": [],
   "source": [
    "!pip install scikit-learn pandas numpy matplotlib plotly ipykernel \"nbformat>=4.2.0\""
   ]
  },
  {
   "cell_type": "code",
   "execution_count": 27,
   "id": "6052c3c8",
   "metadata": {},
   "outputs": [],
   "source": [
    "from sklearn.datasets import make_classification\n",
    "from sklearn.metrics import roc_auc_score\n",
    "from sklearn.model_selection import train_test_split\n",
    "import numpy as np\n",
    "import pandas as pd\n",
    "import plotly.express as px\n",
    "import plotly.graph_objects as go\n",
    "from sklearn.neural_network import MLPClassifier\n",
    "import warnings\n",
    "from sklearn.decomposition import PCA\n",
    "\n",
    "\n",
    "warnings.filterwarnings('ignore')\n",
    "\n",
    "# generate random data\n",
    "SAMPLES = 1_000\n",
    "LABELED_RATIO = 0.1\n",
    "x, y = make_classification(n_samples=SAMPLES, n_features=20, n_informative=15, random_state=42, n_classes=2)\n",
    "\n",
    "# select 20% of the data for later testing\n",
    "test_split_x = x[:int(SAMPLES * 0.2)]\n",
    "test_split_y = y[:int(SAMPLES * 0.2)]\n",
    "train_split_x = x[int(SAMPLES * 0.2):]\n",
    "train_split_y = y[int(SAMPLES * 0.2):]\n",
    "\n",
    "# train a model to select labeled data\n",
    "labeled_data_selection_model = MLPClassifier(hidden_layer_sizes=(10), max_iter=50, random_state=42)\n",
    "labeled_data_selection_model.fit(x, y)\n",
    "scores_train = labeled_data_selection_model.predict_proba(train_split_x)\n",
    "scores_train = scores_train[:, 1]\n",
    "scores_test = labeled_data_selection_model.predict_proba(test_split_x)\n",
    "scores_test = scores_test[:, 1]\n",
    "\n",
    "# Select labeled data based on the model's scores\n",
    "threshold_above = np.percentile(scores_train, 100 - (100 * LABELED_RATIO))\n",
    "threshold_below = np.percentile(scores_train, 100 * LABELED_RATIO)\n",
    "x_above_train = train_split_x[scores_train >= threshold_above]\n",
    "y_above_train = train_split_y[scores_train >= threshold_above]\n",
    "x_below_train = train_split_x[scores_train <= threshold_below]\n",
    "y_below_train = train_split_y[scores_train <= threshold_below]\n",
    "labeled_data_x_train = np.concatenate((x_above_train, x_below_train), axis=0)\n",
    "labeled_data_y_train = np.concatenate((y_above_train, y_below_train), axis=0)\n",
    "not_labeled_data_x_train = train_split_x[~np.isin(np.arange(len(train_split_x)), np.where(scores_train >= threshold_above)[0]) & ~np.isin(np.arange(len(train_split_x)), np.where(scores_train <= threshold_below)[0])]\n",
    "not_labeled_data_y_train = train_split_y[~np.isin(np.arange(len(train_split_x)), np.where(scores_train >= threshold_above)[0]) & ~np.isin(np.arange(len(train_split_x)), np.where(scores_train <= threshold_below)[0])]\n",
    "\n",
    "# do same for test data\n",
    "test_data_labeled_x = test_split_x[scores_test >= threshold_above]\n",
    "test_data_labeled_y = test_split_y[scores_test >= threshold_above]\n",
    "test_data_not_labeled_x = test_split_x[~np.isin(np.arange(len(test_split_x)), np.where(scores_test >= threshold_above)[0])]\n",
    "test_data_not_labeled_y = test_split_y[~np.isin(np.arange(len(test_split_x)), np.where(scores_test >= threshold_above)[0])]"
   ]
  },
  {
   "cell_type": "code",
   "execution_count": 28,
   "id": "a14d93a6",
   "metadata": {},
   "outputs": [
    {
     "data": {
      "application/vnd.plotly.v1+json": {
       "config": {
        "plotlyServerURL": "https://plot.ly"
       },
       "data": [
        {
         "hovertemplate": "x=%{x}<br>y=%{y}<br>color=%{marker.color}<extra></extra>",
         "legendgroup": "",
         "marker": {
          "color": {
           "bdata": "AQABAQEAAAEBAQAAAQAAAQEBAAEBAQEAAQEAAQAAAAABAAABAQEBAAABAQEAAQEBAAEBAAAAAQAAAAABAAEAAQEAAAABAAEBAAABAAABAAABAQAAAQEAAAEAAAEBAQEBAAEAAAABAQEAAAABAAEAAQEBAQEAAAAAAQABAQAAAAAAAAABAQEBAAEBAQAAAQABAQAAAQABAQAAAAEBAAEAAAEBAQABAQAAAQEAAAEAAQEBAQAAAAEBAAAAAQEBAQEAAAEBAAEAAAEAAAAAAAAAAQAAAAEAAAABAAABAQABAQEAAQEBAQEBAQABAAEBAQEBAQEBAQAAAAEBAQEAAAEAAAEBAAABAQEAAAEBAAEAAQEAAQEBAQABAQEBAQAAAAABAAEAAAABAAEBAAEBAAEAAAABAAEBAAABAAAAAAEAAQEBAQEAAQEAAQABAAEBAQABAAEBAAABAAABAQAAAAAAAQAAAQEAAAEAAQAAAAABAQEBAQEAAAEBAQABAAEBAAAAAQAAAAEAAAEBAQABAQEAAAABAAABAAEBAQAAAQABAAEAAAABAQABAQEAAQEAAAAAAQAAAQAAAQABAAEAAQABAAEBAQAAAAAAAAABAQEBAAEBAQEBAAEAAAABAQABAQABAAEBAAABAQAAAQEAAQEBAQEAAAEAAQEAAAEAAQEAAAABAAEAAQABAAAAAAAAAQEBAAABAQEAAAEAAAEAAQEBAAEAAAABAAABAAEAAQAAAAEBAAABAQABAQEBAAABAAABAQEAAQEBAQAAAQAAAQAAAQEBAAABAQAAAQEAAAAAAQEAAQEAAAEAAAEAAQAAAAEAAQEBAAAAAQABAQAAAQEAAAEBAAEAAAAAAQAAAAABAQEAAAAAAAAAAQEAAQEAAQEAAQEAAQEBAAABAAAAAAABAAAAAQAAAAABAQABAAEAAQEBAQAAAQEAAQEBAAAAAAAAAQEAAAEBAQABAQABAQABAQAAAAABAAEAAAABAQEAAQABAAABAQEAAAABAQEBAQAAAQEBAAAAAAEBAAEAAAEBAAEAAQABAAABAAEBAQEBAQEAAAEBAQEAAAEBAAABAAEBAQEAAQEAAAABAQAAAQEAAQEAAAEAAAAAAQAAAQEBAQEBAQEAAQABAQAAAAEAAAAAAAAAAAEBAAABAAAAAQABAAABAAABAQEBAQEBAAAAAQEBAAAAAQEBAQABAQEAAAEAAAABAAEBAAEAAQABAQEAAQABAAABAQAAAAAAAQAAAQAAAAAAAQEAAQAAAAEAAAABAAAAAQAAAQAAAQABAQEAAAEAAQABAQABAQEAAAAAAQEAAAABAAABAA==",
           "dtype": "i1"
          },
          "coloraxis": "coloraxis",
          "symbol": "circle"
         },
         "mode": "markers",
         "name": "",
         "orientation": "v",
         "showlegend": false,
         "type": "scatter",
         "x": {
          "bdata": "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",
          "dtype": "f8"
         },
         "xaxis": "x",
         "y": {
          "bdata": "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",
          "dtype": "f8"
         },
         "yaxis": "y"
        }
       ],
       "layout": {
        "coloraxis": {
         "colorbar": {
          "title": {
           "text": "color"
          }
         },
         "colorscale": [
          [
           0,
           "#0d0887"
          ],
          [
           0.1111111111111111,
           "#46039f"
          ],
          [
           0.2222222222222222,
           "#7201a8"
          ],
          [
           0.3333333333333333,
           "#9c179e"
          ],
          [
           0.4444444444444444,
           "#bd3786"
          ],
          [
           0.5555555555555556,
           "#d8576b"
          ],
          [
           0.6666666666666666,
           "#ed7953"
          ],
          [
           0.7777777777777778,
           "#fb9f3a"
          ],
          [
           0.8888888888888888,
           "#fdca26"
          ],
          [
           1,
           "#f0f921"
          ]
         ]
        },
        "legend": {
         "tracegroupgap": 0
        },
        "template": {
         "data": {
          "bar": [
           {
            "error_x": {
             "color": "#2a3f5f"
            },
            "error_y": {
             "color": "#2a3f5f"
            },
            "marker": {
             "line": {
              "color": "#E5ECF6",
              "width": 0.5
             },
             "pattern": {
              "fillmode": "overlay",
              "size": 10,
              "solidity": 0.2
             }
            },
            "type": "bar"
           }
          ],
          "barpolar": [
           {
            "marker": {
             "line": {
              "color": "#E5ECF6",
              "width": 0.5
             },
             "pattern": {
              "fillmode": "overlay",
              "size": 10,
              "solidity": 0.2
             }
            },
            "type": "barpolar"
           }
          ],
          "carpet": [
           {
            "aaxis": {
             "endlinecolor": "#2a3f5f",
             "gridcolor": "white",
             "linecolor": "white",
             "minorgridcolor": "white",
             "startlinecolor": "#2a3f5f"
            },
            "baxis": {
             "endlinecolor": "#2a3f5f",
             "gridcolor": "white",
             "linecolor": "white",
             "minorgridcolor": "white",
             "startlinecolor": "#2a3f5f"
            },
            "type": "carpet"
           }
          ],
          "choropleth": [
           {
            "colorbar": {
             "outlinewidth": 0,
             "ticks": ""
            },
            "type": "choropleth"
           }
          ],
          "contour": [
           {
            "colorbar": {
             "outlinewidth": 0,
             "ticks": ""
            },
            "colorscale": [
             [
              0,
              "#0d0887"
             ],
             [
              0.1111111111111111,
              "#46039f"
             ],
             [
              0.2222222222222222,
              "#7201a8"
             ],
             [
              0.3333333333333333,
              "#9c179e"
             ],
             [
              0.4444444444444444,
              "#bd3786"
             ],
             [
              0.5555555555555556,
              "#d8576b"
             ],
             [
              0.6666666666666666,
              "#ed7953"
             ],
             [
              0.7777777777777778,
              "#fb9f3a"
             ],
             [
              0.8888888888888888,
              "#fdca26"
             ],
             [
              1,
              "#f0f921"
             ]
            ],
            "type": "contour"
           }
          ],
          "contourcarpet": [
           {
            "colorbar": {
             "outlinewidth": 0,
             "ticks": ""
            },
            "type": "contourcarpet"
           }
          ],
          "heatmap": [
           {
            "colorbar": {
             "outlinewidth": 0,
             "ticks": ""
            },
            "colorscale": [
             [
              0,
              "#0d0887"
             ],
             [
              0.1111111111111111,
              "#46039f"
             ],
             [
              0.2222222222222222,
              "#7201a8"
             ],
             [
              0.3333333333333333,
              "#9c179e"
             ],
             [
              0.4444444444444444,
              "#bd3786"
             ],
             [
              0.5555555555555556,
              "#d8576b"
             ],
             [
              0.6666666666666666,
              "#ed7953"
             ],
             [
              0.7777777777777778,
              "#fb9f3a"
             ],
             [
              0.8888888888888888,
              "#fdca26"
             ],
             [
              1,
              "#f0f921"
             ]
            ],
            "type": "heatmap"
           }
          ],
          "histogram": [
           {
            "marker": {
             "pattern": {
              "fillmode": "overlay",
              "size": 10,
              "solidity": 0.2
             }
            },
            "type": "histogram"
           }
          ],
          "histogram2d": [
           {
            "colorbar": {
             "outlinewidth": 0,
             "ticks": ""
            },
            "colorscale": [
             [
              0,
              "#0d0887"
             ],
             [
              0.1111111111111111,
              "#46039f"
             ],
             [
              0.2222222222222222,
              "#7201a8"
             ],
             [
              0.3333333333333333,
              "#9c179e"
             ],
             [
              0.4444444444444444,
              "#bd3786"
             ],
             [
              0.5555555555555556,
              "#d8576b"
             ],
             [
              0.6666666666666666,
              "#ed7953"
             ],
             [
              0.7777777777777778,
              "#fb9f3a"
             ],
             [
              0.8888888888888888,
              "#fdca26"
             ],
             [
              1,
              "#f0f921"
             ]
            ],
            "type": "histogram2d"
           }
          ],
          "histogram2dcontour": [
           {
            "colorbar": {
             "outlinewidth": 0,
             "ticks": ""
            },
            "colorscale": [
             [
              0,
              "#0d0887"
             ],
             [
              0.1111111111111111,
              "#46039f"
             ],
             [
              0.2222222222222222,
              "#7201a8"
             ],
             [
              0.3333333333333333,
              "#9c179e"
             ],
             [
              0.4444444444444444,
              "#bd3786"
             ],
             [
              0.5555555555555556,
              "#d8576b"
             ],
             [
              0.6666666666666666,
              "#ed7953"
             ],
             [
              0.7777777777777778,
              "#fb9f3a"
             ],
             [
              0.8888888888888888,
              "#fdca26"
             ],
             [
              1,
              "#f0f921"
             ]
            ],
            "type": "histogram2dcontour"
           }
          ],
          "mesh3d": [
           {
            "colorbar": {
             "outlinewidth": 0,
             "ticks": ""
            },
            "type": "mesh3d"
           }
          ],
          "parcoords": [
           {
            "line": {
             "colorbar": {
              "outlinewidth": 0,
              "ticks": ""
             }
            },
            "type": "parcoords"
           }
          ],
          "pie": [
           {
            "automargin": true,
            "type": "pie"
           }
          ],
          "scatter": [
           {
            "fillpattern": {
             "fillmode": "overlay",
             "size": 10,
             "solidity": 0.2
            },
            "type": "scatter"
           }
          ],
          "scatter3d": [
           {
            "line": {
             "colorbar": {
              "outlinewidth": 0,
              "ticks": ""
             }
            },
            "marker": {
             "colorbar": {
              "outlinewidth": 0,
              "ticks": ""
             }
            },
            "type": "scatter3d"
           }
          ],
          "scattercarpet": [
           {
            "marker": {
             "colorbar": {
              "outlinewidth": 0,
              "ticks": ""
             }
            },
            "type": "scattercarpet"
           }
          ],
          "scattergeo": [
           {
            "marker": {
             "colorbar": {
              "outlinewidth": 0,
              "ticks": ""
             }
            },
            "type": "scattergeo"
           }
          ],
          "scattergl": [
           {
            "marker": {
             "colorbar": {
              "outlinewidth": 0,
              "ticks": ""
             }
            },
            "type": "scattergl"
           }
          ],
          "scattermap": [
           {
            "marker": {
             "colorbar": {
              "outlinewidth": 0,
              "ticks": ""
             }
            },
            "type": "scattermap"
           }
          ],
          "scattermapbox": [
           {
            "marker": {
             "colorbar": {
              "outlinewidth": 0,
              "ticks": ""
             }
            },
            "type": "scattermapbox"
           }
          ],
          "scatterpolar": [
           {
            "marker": {
             "colorbar": {
              "outlinewidth": 0,
              "ticks": ""
             }
            },
            "type": "scatterpolar"
           }
          ],
          "scatterpolargl": [
           {
            "marker": {
             "colorbar": {
              "outlinewidth": 0,
              "ticks": ""
             }
            },
            "type": "scatterpolargl"
           }
          ],
          "scatterternary": [
           {
            "marker": {
             "colorbar": {
              "outlinewidth": 0,
              "ticks": ""
             }
            },
            "type": "scatterternary"
           }
          ],
          "surface": [
           {
            "colorbar": {
             "outlinewidth": 0,
             "ticks": ""
            },
            "colorscale": [
             [
              0,
              "#0d0887"
             ],
             [
              0.1111111111111111,
              "#46039f"
             ],
             [
              0.2222222222222222,
              "#7201a8"
             ],
             [
              0.3333333333333333,
              "#9c179e"
             ],
             [
              0.4444444444444444,
              "#bd3786"
             ],
             [
              0.5555555555555556,
              "#d8576b"
             ],
             [
              0.6666666666666666,
              "#ed7953"
             ],
             [
              0.7777777777777778,
              "#fb9f3a"
             ],
             [
              0.8888888888888888,
              "#fdca26"
             ],
             [
              1,
              "#f0f921"
             ]
            ],
            "type": "surface"
           }
          ],
          "table": [
           {
            "cells": {
             "fill": {
              "color": "#EBF0F8"
             },
             "line": {
              "color": "white"
             }
            },
            "header": {
             "fill": {
              "color": "#C8D4E3"
             },
             "line": {
              "color": "white"
             }
            },
            "type": "table"
           }
          ]
         },
         "layout": {
          "annotationdefaults": {
           "arrowcolor": "#2a3f5f",
           "arrowhead": 0,
           "arrowwidth": 1
          },
          "autotypenumbers": "strict",
          "coloraxis": {
           "colorbar": {
            "outlinewidth": 0,
            "ticks": ""
           }
          },
          "colorscale": {
           "diverging": [
            [
             0,
             "#8e0152"
            ],
            [
             0.1,
             "#c51b7d"
            ],
            [
             0.2,
             "#de77ae"
            ],
            [
             0.3,
             "#f1b6da"
            ],
            [
             0.4,
             "#fde0ef"
            ],
            [
             0.5,
             "#f7f7f7"
            ],
            [
             0.6,
             "#e6f5d0"
            ],
            [
             0.7,
             "#b8e186"
            ],
            [
             0.8,
             "#7fbc41"
            ],
            [
             0.9,
             "#4d9221"
            ],
            [
             1,
             "#276419"
            ]
           ],
           "sequential": [
            [
             0,
             "#0d0887"
            ],
            [
             0.1111111111111111,
             "#46039f"
            ],
            [
             0.2222222222222222,
             "#7201a8"
            ],
            [
             0.3333333333333333,
             "#9c179e"
            ],
            [
             0.4444444444444444,
             "#bd3786"
            ],
            [
             0.5555555555555556,
             "#d8576b"
            ],
            [
             0.6666666666666666,
             "#ed7953"
            ],
            [
             0.7777777777777778,
             "#fb9f3a"
            ],
            [
             0.8888888888888888,
             "#fdca26"
            ],
            [
             1,
             "#f0f921"
            ]
           ],
           "sequentialminus": [
            [
             0,
             "#0d0887"
            ],
            [
             0.1111111111111111,
             "#46039f"
            ],
            [
             0.2222222222222222,
             "#7201a8"
            ],
            [
             0.3333333333333333,
             "#9c179e"
            ],
            [
             0.4444444444444444,
             "#bd3786"
            ],
            [
             0.5555555555555556,
             "#d8576b"
            ],
            [
             0.6666666666666666,
             "#ed7953"
            ],
            [
             0.7777777777777778,
             "#fb9f3a"
            ],
            [
             0.8888888888888888,
             "#fdca26"
            ],
            [
             1,
             "#f0f921"
            ]
           ]
          },
          "colorway": [
           "#636efa",
           "#EF553B",
           "#00cc96",
           "#ab63fa",
           "#FFA15A",
           "#19d3f3",
           "#FF6692",
           "#B6E880",
           "#FF97FF",
           "#FECB52"
          ],
          "font": {
           "color": "#2a3f5f"
          },
          "geo": {
           "bgcolor": "white",
           "lakecolor": "white",
           "landcolor": "#E5ECF6",
           "showlakes": true,
           "showland": true,
           "subunitcolor": "white"
          },
          "hoverlabel": {
           "align": "left"
          },
          "hovermode": "closest",
          "mapbox": {
           "style": "light"
          },
          "paper_bgcolor": "white",
          "plot_bgcolor": "#E5ECF6",
          "polar": {
           "angularaxis": {
            "gridcolor": "white",
            "linecolor": "white",
            "ticks": ""
           },
           "bgcolor": "#E5ECF6",
           "radialaxis": {
            "gridcolor": "white",
            "linecolor": "white",
            "ticks": ""
           }
          },
          "scene": {
           "xaxis": {
            "backgroundcolor": "#E5ECF6",
            "gridcolor": "white",
            "gridwidth": 2,
            "linecolor": "white",
            "showbackground": true,
            "ticks": "",
            "zerolinecolor": "white"
           },
           "yaxis": {
            "backgroundcolor": "#E5ECF6",
            "gridcolor": "white",
            "gridwidth": 2,
            "linecolor": "white",
            "showbackground": true,
            "ticks": "",
            "zerolinecolor": "white"
           },
           "zaxis": {
            "backgroundcolor": "#E5ECF6",
            "gridcolor": "white",
            "gridwidth": 2,
            "linecolor": "white",
            "showbackground": true,
            "ticks": "",
            "zerolinecolor": "white"
           }
          },
          "shapedefaults": {
           "line": {
            "color": "#2a3f5f"
           }
          },
          "ternary": {
           "aaxis": {
            "gridcolor": "white",
            "linecolor": "white",
            "ticks": ""
           },
           "baxis": {
            "gridcolor": "white",
            "linecolor": "white",
            "ticks": ""
           },
           "bgcolor": "#E5ECF6",
           "caxis": {
            "gridcolor": "white",
            "linecolor": "white",
            "ticks": ""
           }
          },
          "title": {
           "x": 0.05
          },
          "xaxis": {
           "automargin": true,
           "gridcolor": "white",
           "linecolor": "white",
           "ticks": "",
           "title": {
            "standoff": 15
           },
           "zerolinecolor": "white",
           "zerolinewidth": 2
          },
          "yaxis": {
           "automargin": true,
           "gridcolor": "white",
           "linecolor": "white",
           "ticks": "",
           "title": {
            "standoff": 15
           },
           "zerolinecolor": "white",
           "zerolinewidth": 2
          }
         }
        },
        "title": {
         "text": "PCA of the data"
        },
        "xaxis": {
         "anchor": "y",
         "domain": [
          0,
          1
         ],
         "title": {
          "text": "x"
         }
        },
        "yaxis": {
         "anchor": "x",
         "domain": [
          0,
          1
         ],
         "title": {
          "text": "y"
         }
        }
       }
      }
     },
     "metadata": {},
     "output_type": "display_data"
    }
   ],
   "source": [
    "# visualize the samples via pca:\n",
    "\n",
    "pca = PCA(n_components=2)\n",
    "pca_x = pca.fit_transform(x)\n",
    "pca_test_split_x = pca.transform(test_split_x)\n",
    "pca_train_split_x = pca.transform(train_split_x)\n",
    "fig = px.scatter(x=pca_x[:, 0], y=pca_x[:, 1], color=y, title=\"PCA of the data\")\n",
    "#fig.add_trace(go.Scatter(x=pca_test_split_x[:, 0], y=pca_test_split_x[:, 1], mode='markers', name='Test Data', marker=dict(color='red', size=5, symbol='cross')))\n",
    "#fig.add_trace(go.Scatter(x=pca_train_split_x[:, 0], y=pca_train_split_x[:, 1], mode='markers', name='Train Data', marker=dict(color='blue', size=5, symbol='circle')))\n",
    "fig.show()"
   ]
  },
  {
   "cell_type": "code",
   "execution_count": null,
   "id": "4f8ece60",
   "metadata": {},
   "outputs": [
    {
     "data": {
      "application/vnd.plotly.v1+json": {
       "config": {
        "plotlyServerURL": "https://plot.ly"
       },
       "data": [
        {
         "bingroup": "x",
         "hovertemplate": "variable=0<br>Score=%{x}<br>count=%{y}<extra></extra>",
         "legendgroup": "0",
         "marker": {
          "color": "#636efa",
          "pattern": {
           "shape": ""
          }
         },
         "name": "0",
         "nbinsx": 50,
         "orientation": "v",
         "showlegend": true,
         "type": "histogram",
         "x": {
          "bdata": "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",
          "dtype": "f8"
         },
         "xaxis": "x",
         "yaxis": "y"
        }
       ],
       "layout": {
        "barmode": "relative",
        "legend": {
         "title": {
          "text": "variable"
         },
         "tracegroupgap": 0
        },
        "template": {
         "data": {
          "bar": [
           {
            "error_x": {
             "color": "#2a3f5f"
            },
            "error_y": {
             "color": "#2a3f5f"
            },
            "marker": {
             "line": {
              "color": "#E5ECF6",
              "width": 0.5
             },
             "pattern": {
              "fillmode": "overlay",
              "size": 10,
              "solidity": 0.2
             }
            },
            "type": "bar"
           }
          ],
          "barpolar": [
           {
            "marker": {
             "line": {
              "color": "#E5ECF6",
              "width": 0.5
             },
             "pattern": {
              "fillmode": "overlay",
              "size": 10,
              "solidity": 0.2
             }
            },
            "type": "barpolar"
           }
          ],
          "carpet": [
           {
            "aaxis": {
             "endlinecolor": "#2a3f5f",
             "gridcolor": "white",
             "linecolor": "white",
             "minorgridcolor": "white",
             "startlinecolor": "#2a3f5f"
            },
            "baxis": {
             "endlinecolor": "#2a3f5f",
             "gridcolor": "white",
             "linecolor": "white",
             "minorgridcolor": "white",
             "startlinecolor": "#2a3f5f"
            },
            "type": "carpet"
           }
          ],
          "choropleth": [
           {
            "colorbar": {
             "outlinewidth": 0,
             "ticks": ""
            },
            "type": "choropleth"
           }
          ],
          "contour": [
           {
            "colorbar": {
             "outlinewidth": 0,
             "ticks": ""
            },
            "colorscale": [
             [
              0,
              "#0d0887"
             ],
             [
              0.1111111111111111,
              "#46039f"
             ],
             [
              0.2222222222222222,
              "#7201a8"
             ],
             [
              0.3333333333333333,
              "#9c179e"
             ],
             [
              0.4444444444444444,
              "#bd3786"
             ],
             [
              0.5555555555555556,
              "#d8576b"
             ],
             [
              0.6666666666666666,
              "#ed7953"
             ],
             [
              0.7777777777777778,
              "#fb9f3a"
             ],
             [
              0.8888888888888888,
              "#fdca26"
             ],
             [
              1,
              "#f0f921"
             ]
            ],
            "type": "contour"
           }
          ],
          "contourcarpet": [
           {
            "colorbar": {
             "outlinewidth": 0,
             "ticks": ""
            },
            "type": "contourcarpet"
           }
          ],
          "heatmap": [
           {
            "colorbar": {
             "outlinewidth": 0,
             "ticks": ""
            },
            "colorscale": [
             [
              0,
              "#0d0887"
             ],
             [
              0.1111111111111111,
              "#46039f"
             ],
             [
              0.2222222222222222,
              "#7201a8"
             ],
             [
              0.3333333333333333,
              "#9c179e"
             ],
             [
              0.4444444444444444,
              "#bd3786"
             ],
             [
              0.5555555555555556,
              "#d8576b"
             ],
             [
              0.6666666666666666,
              "#ed7953"
             ],
             [
              0.7777777777777778,
              "#fb9f3a"
             ],
             [
              0.8888888888888888,
              "#fdca26"
             ],
             [
              1,
              "#f0f921"
             ]
            ],
            "type": "heatmap"
           }
          ],
          "histogram": [
           {
            "marker": {
             "pattern": {
              "fillmode": "overlay",
              "size": 10,
              "solidity": 0.2
             }
            },
            "type": "histogram"
           }
          ],
          "histogram2d": [
           {
            "colorbar": {
             "outlinewidth": 0,
             "ticks": ""
            },
            "colorscale": [
             [
              0,
              "#0d0887"
             ],
             [
              0.1111111111111111,
              "#46039f"
             ],
             [
              0.2222222222222222,
              "#7201a8"
             ],
             [
              0.3333333333333333,
              "#9c179e"
             ],
             [
              0.4444444444444444,
              "#bd3786"
             ],
             [
              0.5555555555555556,
              "#d8576b"
             ],
             [
              0.6666666666666666,
              "#ed7953"
             ],
             [
              0.7777777777777778,
              "#fb9f3a"
             ],
             [
              0.8888888888888888,
              "#fdca26"
             ],
             [
              1,
              "#f0f921"
             ]
            ],
            "type": "histogram2d"
           }
          ],
          "histogram2dcontour": [
           {
            "colorbar": {
             "outlinewidth": 0,
             "ticks": ""
            },
            "colorscale": [
             [
              0,
              "#0d0887"
             ],
             [
              0.1111111111111111,
              "#46039f"
             ],
             [
              0.2222222222222222,
              "#7201a8"
             ],
             [
              0.3333333333333333,
              "#9c179e"
             ],
             [
              0.4444444444444444,
              "#bd3786"
             ],
             [
              0.5555555555555556,
              "#d8576b"
             ],
             [
              0.6666666666666666,
              "#ed7953"
             ],
             [
              0.7777777777777778,
              "#fb9f3a"
             ],
             [
              0.8888888888888888,
              "#fdca26"
             ],
             [
              1,
              "#f0f921"
             ]
            ],
            "type": "histogram2dcontour"
           }
          ],
          "mesh3d": [
           {
            "colorbar": {
             "outlinewidth": 0,
             "ticks": ""
            },
            "type": "mesh3d"
           }
          ],
          "parcoords": [
           {
            "line": {
             "colorbar": {
              "outlinewidth": 0,
              "ticks": ""
             }
            },
            "type": "parcoords"
           }
          ],
          "pie": [
           {
            "automargin": true,
            "type": "pie"
           }
          ],
          "scatter": [
           {
            "fillpattern": {
             "fillmode": "overlay",
             "size": 10,
             "solidity": 0.2
            },
            "type": "scatter"
           }
          ],
          "scatter3d": [
           {
            "line": {
             "colorbar": {
              "outlinewidth": 0,
              "ticks": ""
             }
            },
            "marker": {
             "colorbar": {
              "outlinewidth": 0,
              "ticks": ""
             }
            },
            "type": "scatter3d"
           }
          ],
          "scattercarpet": [
           {
            "marker": {
             "colorbar": {
              "outlinewidth": 0,
              "ticks": ""
             }
            },
            "type": "scattercarpet"
           }
          ],
          "scattergeo": [
           {
            "marker": {
             "colorbar": {
              "outlinewidth": 0,
              "ticks": ""
             }
            },
            "type": "scattergeo"
           }
          ],
          "scattergl": [
           {
            "marker": {
             "colorbar": {
              "outlinewidth": 0,
              "ticks": ""
             }
            },
            "type": "scattergl"
           }
          ],
          "scattermap": [
           {
            "marker": {
             "colorbar": {
              "outlinewidth": 0,
              "ticks": ""
             }
            },
            "type": "scattermap"
           }
          ],
          "scattermapbox": [
           {
            "marker": {
             "colorbar": {
              "outlinewidth": 0,
              "ticks": ""
             }
            },
            "type": "scattermapbox"
           }
          ],
          "scatterpolar": [
           {
            "marker": {
             "colorbar": {
              "outlinewidth": 0,
              "ticks": ""
             }
            },
            "type": "scatterpolar"
           }
          ],
          "scatterpolargl": [
           {
            "marker": {
             "colorbar": {
              "outlinewidth": 0,
              "ticks": ""
             }
            },
            "type": "scatterpolargl"
           }
          ],
          "scatterternary": [
           {
            "marker": {
             "colorbar": {
              "outlinewidth": 0,
              "ticks": ""
             }
            },
            "type": "scatterternary"
           }
          ],
          "surface": [
           {
            "colorbar": {
             "outlinewidth": 0,
             "ticks": ""
            },
            "colorscale": [
             [
              0,
              "#0d0887"
             ],
             [
              0.1111111111111111,
              "#46039f"
             ],
             [
              0.2222222222222222,
              "#7201a8"
             ],
             [
              0.3333333333333333,
              "#9c179e"
             ],
             [
              0.4444444444444444,
              "#bd3786"
             ],
             [
              0.5555555555555556,
              "#d8576b"
             ],
             [
              0.6666666666666666,
              "#ed7953"
             ],
             [
              0.7777777777777778,
              "#fb9f3a"
             ],
             [
              0.8888888888888888,
              "#fdca26"
             ],
             [
              1,
              "#f0f921"
             ]
            ],
            "type": "surface"
           }
          ],
          "table": [
           {
            "cells": {
             "fill": {
              "color": "#EBF0F8"
             },
             "line": {
              "color": "white"
             }
            },
            "header": {
             "fill": {
              "color": "#C8D4E3"
             },
             "line": {
              "color": "white"
             }
            },
            "type": "table"
           }
          ]
         },
         "layout": {
          "annotationdefaults": {
           "arrowcolor": "#2a3f5f",
           "arrowhead": 0,
           "arrowwidth": 1
          },
          "autotypenumbers": "strict",
          "coloraxis": {
           "colorbar": {
            "outlinewidth": 0,
            "ticks": ""
           }
          },
          "colorscale": {
           "diverging": [
            [
             0,
             "#8e0152"
            ],
            [
             0.1,
             "#c51b7d"
            ],
            [
             0.2,
             "#de77ae"
            ],
            [
             0.3,
             "#f1b6da"
            ],
            [
             0.4,
             "#fde0ef"
            ],
            [
             0.5,
             "#f7f7f7"
            ],
            [
             0.6,
             "#e6f5d0"
            ],
            [
             0.7,
             "#b8e186"
            ],
            [
             0.8,
             "#7fbc41"
            ],
            [
             0.9,
             "#4d9221"
            ],
            [
             1,
             "#276419"
            ]
           ],
           "sequential": [
            [
             0,
             "#0d0887"
            ],
            [
             0.1111111111111111,
             "#46039f"
            ],
            [
             0.2222222222222222,
             "#7201a8"
            ],
            [
             0.3333333333333333,
             "#9c179e"
            ],
            [
             0.4444444444444444,
             "#bd3786"
            ],
            [
             0.5555555555555556,
             "#d8576b"
            ],
            [
             0.6666666666666666,
             "#ed7953"
            ],
            [
             0.7777777777777778,
             "#fb9f3a"
            ],
            [
             0.8888888888888888,
             "#fdca26"
            ],
            [
             1,
             "#f0f921"
            ]
           ],
           "sequentialminus": [
            [
             0,
             "#0d0887"
            ],
            [
             0.1111111111111111,
             "#46039f"
            ],
            [
             0.2222222222222222,
             "#7201a8"
            ],
            [
             0.3333333333333333,
             "#9c179e"
            ],
            [
             0.4444444444444444,
             "#bd3786"
            ],
            [
             0.5555555555555556,
             "#d8576b"
            ],
            [
             0.6666666666666666,
             "#ed7953"
            ],
            [
             0.7777777777777778,
             "#fb9f3a"
            ],
            [
             0.8888888888888888,
             "#fdca26"
            ],
            [
             1,
             "#f0f921"
            ]
           ]
          },
          "colorway": [
           "#636efa",
           "#EF553B",
           "#00cc96",
           "#ab63fa",
           "#FFA15A",
           "#19d3f3",
           "#FF6692",
           "#B6E880",
           "#FF97FF",
           "#FECB52"
          ],
          "font": {
           "color": "#2a3f5f"
          },
          "geo": {
           "bgcolor": "white",
           "lakecolor": "white",
           "landcolor": "#E5ECF6",
           "showlakes": true,
           "showland": true,
           "subunitcolor": "white"
          },
          "hoverlabel": {
           "align": "left"
          },
          "hovermode": "closest",
          "mapbox": {
           "style": "light"
          },
          "paper_bgcolor": "white",
          "plot_bgcolor": "#E5ECF6",
          "polar": {
           "angularaxis": {
            "gridcolor": "white",
            "linecolor": "white",
            "ticks": ""
           },
           "bgcolor": "#E5ECF6",
           "radialaxis": {
            "gridcolor": "white",
            "linecolor": "white",
            "ticks": ""
           }
          },
          "scene": {
           "xaxis": {
            "backgroundcolor": "#E5ECF6",
            "gridcolor": "white",
            "gridwidth": 2,
            "linecolor": "white",
            "showbackground": true,
            "ticks": "",
            "zerolinecolor": "white"
           },
           "yaxis": {
            "backgroundcolor": "#E5ECF6",
            "gridcolor": "white",
            "gridwidth": 2,
            "linecolor": "white",
            "showbackground": true,
            "ticks": "",
            "zerolinecolor": "white"
           },
           "zaxis": {
            "backgroundcolor": "#E5ECF6",
            "gridcolor": "white",
            "gridwidth": 2,
            "linecolor": "white",
            "showbackground": true,
            "ticks": "",
            "zerolinecolor": "white"
           }
          },
          "shapedefaults": {
           "line": {
            "color": "#2a3f5f"
           }
          },
          "ternary": {
           "aaxis": {
            "gridcolor": "white",
            "linecolor": "white",
            "ticks": ""
           },
           "baxis": {
            "gridcolor": "white",
            "linecolor": "white",
            "ticks": ""
           },
           "bgcolor": "#E5ECF6",
           "caxis": {
            "gridcolor": "white",
            "linecolor": "white",
            "ticks": ""
           }
          },
          "title": {
           "x": 0.05
          },
          "xaxis": {
           "automargin": true,
           "gridcolor": "white",
           "linecolor": "white",
           "ticks": "",
           "title": {
            "standoff": 15
           },
           "zerolinecolor": "white",
           "zerolinewidth": 2
          },
          "yaxis": {
           "automargin": true,
           "gridcolor": "white",
           "linecolor": "white",
           "ticks": "",
           "title": {
            "standoff": 15
           },
           "zerolinecolor": "white",
           "zerolinewidth": 2
          }
         }
        },
        "title": {
         "text": "Score Distribution"
        },
        "xaxis": {
         "anchor": "y",
         "domain": [
          0,
          1
         ],
         "title": {
          "text": "Score"
         }
        },
        "yaxis": {
         "anchor": "x",
         "domain": [
          0,
          1
         ],
         "title": {
          "text": "Count"
         }
        }
       }
      }
     },
     "metadata": {},
     "output_type": "display_data"
    }
   ],
   "source": [
    "# barplot of the score distribution\n",
    "fig = px.histogram(pd.Series(scores_train), nbins=50, title='Score Distribution', labels={'value': 'Score'})\n",
    "fig.update_layout(xaxis_title='Score', yaxis_title='Count')\n",
    "fig.show()"
   ]
  },
  {
   "cell_type": "code",
   "execution_count": 31,
   "id": "c20fd27a",
   "metadata": {},
   "outputs": [],
   "source": [
    "# Train a propensity model:\n",
    "propensity_model = MLPClassifier(hidden_layer_sizes=(10), max_iter=1000, random_state=42, early_stopping=True, validation_fraction=0.2, n_iter_no_change=10)\n",
    "propensity_train_x = np.concatenate((labeled_data_x_train, not_labeled_data_x_train), axis=0)\n",
    "propensity_train_y = np.concatenate((np.ones(len(labeled_data_x_train)), np.zeros(len(not_labeled_data_x_train))), axis=0)  # 1 for labeled, 0 for not labeled\n",
    "propensity_model.fit(train_split_x, train_split_y)\n",
    "\n",
    "# Predict propensity scores\n",
    "propensity_scores = propensity_model.predict_proba(train_split_x)[:, 1]  # get propensities"
   ]
  },
  {
   "cell_type": "code",
   "execution_count": 32,
   "id": "f95712bc",
   "metadata": {},
   "outputs": [
    {
     "data": {
      "application/vnd.plotly.v1+json": {
       "config": {
        "plotlyServerURL": "https://plot.ly"
       },
       "data": [
        {
         "hovertemplate": "x=%{x}<br>y=%{y}<br>color=%{marker.color}<extra></extra>",
         "legendgroup": "",
         "marker": {
          "color": {
           "bdata": "AQEBAQEBAQEBAQEBAQEBAQEBAQEBAQEBAQEBAQEBAQEBAQEBAQEBAQEBAQEBAQEBAQEBAQEBAQEBAQEBAQEBAQEBAQEBAQEBAQEBAQEBAQEAAAAAAAAAAAAAAAAAAAAAAAAAAAAAAAAAAAAAAAAAAAAAAAAAAAAAAAAAAAAAAAAAAAAAAAAAAAAAAAAAAAAAAAAAAAAAAAAAAAAAAAAAAA==",
           "dtype": "i1"
          },
          "coloraxis": "coloraxis",
          "symbol": "circle"
         },
         "mode": "markers",
         "name": "",
         "orientation": "v",
         "showlegend": false,
         "type": "scatter",
         "x": {
          "bdata": "sHxcuYkRBkC9dzm6Ez7wPxip8hoqiQJA1F9AaUhIEkDY9onb7B4gwIQK1APO9yLAgoXubBQIJMCH+FU5QwohwE5ninyF/gXApKLzYpEr3L+nbvwJE7wDwFf4ZpQK0SNAqbC35g+CEEAfM9iBzmEkQCz4zsgWQArAQoZeKMm99b85K7rDidkXQEz3XxtTYg3AtdWIy4OuIkBpXX+ZYmsSQK0sLeamxBdAsZoMn1+u97+B9p5Rx1revxC4HofwDvK//qzBLYt8BcDnq9Z6CXjivxjKppX1MNG//d2YHWFU4b/R9XXqGDz8vxkRVnxrARJAcb8X4/AOFsCv6St3DXMZwBXwmvTM9/M/GD1ddTlaGcC9jbyPol7zvxwJ/AVaLAdANyY5A15OGUAswhh2ACcBwNRLIdXzbuu/ESfmUvNGIcAo5HfbsFrbP5lo5ECa1h1AnHUQgB5oCMBwbWtaDpwHQEQqtYyWRgfA7N6brweN2j8Yue2xAwLtP7ztHZGEbQzAa3S+BvmaFkBiJaUZOAgUwMktwEVUIiLAx/aoKLKKFcDXCWUagvAgwJ7g3sH2KwpAysaqjExEAkD0FEOEbU4PwFB36/70aOe/icE7aS3a9L+bNmg41pgZQC41F4gcsARA/d+3CvJkHUCCUtcmxm/hP4L+4hSiQuc/0RQtlgKK87+6V+vewBQZQGyUUgwI+hTAcJcXwCn707+Y+a7GAlH2v8d2GffFwvK/scH4JkFV478Knv30JFbvPwMvtBIXyRhAjgwrI8VCBkBh12c6zy0ZwCDZS8Maavy/SaGrc3dRHUArho3M2DoeQCDRYgZOE6+/V1ShWqxKHkBs3MigIT4EQDAObpVPgyLAC4BfvisHG0BOI+ZzXIXkv8sAoMo3KybAK6VdPCWLGcBwwDFzYJzaPylXTpiXjCPAjIHXU37J1j+TuPKBuPAbQHtjFw7EVTDAnroT33enEEAGiraKVnYCQDtif2DqpPy//92PiSrOIsCZ06n9xwEjwCa/hqW04uK/I19srMEkJMBzOBaP62oTQDU9N1L3Pfm/kpcSUKS6IUCInBQY0jMiwP6aO2QHSgbAZP4mxMCXDMC0jnCOawr/v/w2GMh6vRbAii71+I3PIUDHtHK+ywwRQA1VzgJH4yLAkumGS1RXDcBGtS8loiEgwCTSsIo6Si3AIvP4fI9a8L+CaRE4UEcAwA7+RaFVawxAkDANo5HZs79cOFR3ke4YwF46DAx5bBVAOZgEgeLlFsDwU9wNU7wTQMazSCx29h7AnrAtjgrUJMAErvcvFd4PQDnzYiXPpCZA2ef9VWemIMDqwEYHntshwBnrIHM8BSXAoszOQoWDAkAlvBuF6PkQwBt+vwx0CTDA4xbZhHi/GcCaYC49ZQAhwLVQYvDBaSDAuVun1L4n9j+d2G+jXDAqQF+NJtjtAf6/JJpfIJvaD8AObXAqoUkFwP0LQ5myaSJAB6R4NtJr87+ziqTaP00twGWTfM99pPc/InjMc72Y+79JNnKUGwLwP9zBQM/+IAnAMuf0pablCMDufrhMMSkAwPaLovuUyyDA149g23DcEsAbb6jglAwRwHglH5fG/TLAtrcy0RnUHcDibH3o8I4AQBnI4EcUnhPA/YD8Qs0HBMDfjxGLL/cfwMjZBBwB8RPAROe4xAqME8CF76ngAh0kwPryBoxfzu+/8nfXnxVOKsA=",
          "dtype": "f8"
         },
         "xaxis": "x",
         "y": {
          "bdata": "6/G4n+cmBMCKNvH+IPwdwMBjmLdnkPC/5A7YSMigIMAlF341y3MlwP/FyGhHXxDAIYdU4DgXJcBUwUIZBvEpwLesce/4EfS/F2UGnAGMB8B/lUC/pz8TwDkmA5VPu/4/0OL4ZGMn5D9iY1UXTToUQBuPLbtaniTADXpuA31YCEAXJCIJF4wiwL3lNI3v4AXA5YcHbwCUFsBB60bU0B0ZQCDSuV6yHxbAYLuGGWBZJMAezKfN2hPrP8UIbR70GyLA1AKVwtps5D/U9P3FjWMHwFsjf8EBZBnAl4eqcQ4x/T8tw+vSHy0GwDS/XnVwwxBAPBbUC6byJcD2NHc7t7giwGpvldbFxADARTweIW5kIcCxJPCIOSMUwBWtrlfqY/S/yztxsTJLHMDs/Zl9ckICwP1OcPK0JARAO6RB/Fr+H8CndnttX4EJwNQ8Zad/uB3ARYapCC2yHkCJoMSdCUD+P+z65JEjjAvAhRhEtVbjKMBRxXv2emcaQB1JYlwYZxbAy6Udd/9LCcA5adxywo0YwESGIdOYCiDA/cmFo/QbFcDdk1AEq18hwHw83jQDnCDATsPzFgotAMB9eZgxqdkgwC9h+LOW9AVA3aKnJEk+EsDapoVZx0/hv0DOsKf2ACTAeiRURl64IkDrSw/pckMFQNdlJclJ6ybAwmJGaL4SGcBpdQJai8UhwBikWC02iADA21bQ6xyTIMBMMJXX8Hyzv1OTgvOgcCbADU+bxmI0G8CtPc2SI2sUwKIX0qKlChnAYFJBjSRhjL/aPwMUtO8pwFkFujjWIyLASWiOtvMFIcCY2J3C/eYhwNWH/+qACvm/3ZihmWdqKMCfGvzrVcAZwFOC/Bk8zR1A22DwQcUlHkCwajeLUXQgQDPhNxKh7xZAtdfdbiuFGED1WdQXiygjQPW1QQ1aZSBAKu97mepxLUDM+/Sb8golQMVNgzckIB5AFbjojek6H0CRwoJ7KhwsQDEE12q0vyFAPoW4MEhdIEC0/D0hCIoEQD/qaUp2HyVAvKxBbgY95T9LlBO4VKgnQP9kGui84C5AZ3QWT4wNJECFFdOodaMnQJ7hx3aGGDFA1n2IDLJLIEBJKYohoRMmQFgcTsUAAxpA6bQ1X28EIkDvyVeXgzIjQIKZ3cMId/c/6bAzDg0//j9ECNSmplITQEl4QcazmBlAxZUkeXVcJEDcw4KDMIwpQHwvl4SqiSVAcZLh6xGzKUBIYbzdfAIaQAcHfTT1sBNAFbdBBY0iIkAWJ7lp+zImQFwiu8hqYCFAvnMhC9n0JUBJVFNxncQbQGNMT2JGZS5AplPbJtgCF0BKnzEWPeQmQG1j+jaN7ChAgLE/So5fMUDi2+Q1RfkgQBoUxDHQfTBA5cEvtXq1JEALjgloloomQIO8zdT6BBpAVUKobRGuH0DXuQpWgSAcQKFhAA7z7C5AfcHXEv70LkCEodQP3gYgQNsYL10E7yJASkyP6nIPLEAzNFsp4lglQLlBlsxdVTFAGfvDfH7bIEDr8QKo7VQnQMA4c4SJjCNAR3ylZksAMUBJHsqe4NgkQMUs8NynbiVAbxCPhk6VIkCTss+yDZcZQDfdBfJ14g5AwQNngosTDUA6qFMp+G8nQPlPu4MIfipA8fCu8nKjAUBbeh0qxGgUQEg1uEIW2BtA/2IXoyKcI0AUJ5Vvyb4jQPS84DyGeTBA7ud1DYMQF0A=",
          "dtype": "f8"
         },
         "yaxis": "y"
        },
        {
         "marker": {
          "color": "grey",
          "size": 5,
          "symbol": "x"
         },
         "mode": "markers",
         "name": "Unlabeled Data",
         "type": "scatter",
         "x": {
          "bdata": "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",
          "dtype": "f8"
         },
         "y": {
          "bdata": "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",
          "dtype": "f8"
         }
        }
       ],
       "layout": {
        "coloraxis": {
         "colorbar": {
          "title": {
           "text": "color"
          }
         },
         "colorscale": [
          [
           0,
           "#0d0887"
          ],
          [
           0.1111111111111111,
           "#46039f"
          ],
          [
           0.2222222222222222,
           "#7201a8"
          ],
          [
           0.3333333333333333,
           "#9c179e"
          ],
          [
           0.4444444444444444,
           "#bd3786"
          ],
          [
           0.5555555555555556,
           "#d8576b"
          ],
          [
           0.6666666666666666,
           "#ed7953"
          ],
          [
           0.7777777777777778,
           "#fb9f3a"
          ],
          [
           0.8888888888888888,
           "#fdca26"
          ],
          [
           1,
           "#f0f921"
          ]
         ]
        },
        "legend": {
         "tracegroupgap": 0
        },
        "template": {
         "data": {
          "bar": [
           {
            "error_x": {
             "color": "#2a3f5f"
            },
            "error_y": {
             "color": "#2a3f5f"
            },
            "marker": {
             "line": {
              "color": "#E5ECF6",
              "width": 0.5
             },
             "pattern": {
              "fillmode": "overlay",
              "size": 10,
              "solidity": 0.2
             }
            },
            "type": "bar"
           }
          ],
          "barpolar": [
           {
            "marker": {
             "line": {
              "color": "#E5ECF6",
              "width": 0.5
             },
             "pattern": {
              "fillmode": "overlay",
              "size": 10,
              "solidity": 0.2
             }
            },
            "type": "barpolar"
           }
          ],
          "carpet": [
           {
            "aaxis": {
             "endlinecolor": "#2a3f5f",
             "gridcolor": "white",
             "linecolor": "white",
             "minorgridcolor": "white",
             "startlinecolor": "#2a3f5f"
            },
            "baxis": {
             "endlinecolor": "#2a3f5f",
             "gridcolor": "white",
             "linecolor": "white",
             "minorgridcolor": "white",
             "startlinecolor": "#2a3f5f"
            },
            "type": "carpet"
           }
          ],
          "choropleth": [
           {
            "colorbar": {
             "outlinewidth": 0,
             "ticks": ""
            },
            "type": "choropleth"
           }
          ],
          "contour": [
           {
            "colorbar": {
             "outlinewidth": 0,
             "ticks": ""
            },
            "colorscale": [
             [
              0,
              "#0d0887"
             ],
             [
              0.1111111111111111,
              "#46039f"
             ],
             [
              0.2222222222222222,
              "#7201a8"
             ],
             [
              0.3333333333333333,
              "#9c179e"
             ],
             [
              0.4444444444444444,
              "#bd3786"
             ],
             [
              0.5555555555555556,
              "#d8576b"
             ],
             [
              0.6666666666666666,
              "#ed7953"
             ],
             [
              0.7777777777777778,
              "#fb9f3a"
             ],
             [
              0.8888888888888888,
              "#fdca26"
             ],
             [
              1,
              "#f0f921"
             ]
            ],
            "type": "contour"
           }
          ],
          "contourcarpet": [
           {
            "colorbar": {
             "outlinewidth": 0,
             "ticks": ""
            },
            "type": "contourcarpet"
           }
          ],
          "heatmap": [
           {
            "colorbar": {
             "outlinewidth": 0,
             "ticks": ""
            },
            "colorscale": [
             [
              0,
              "#0d0887"
             ],
             [
              0.1111111111111111,
              "#46039f"
             ],
             [
              0.2222222222222222,
              "#7201a8"
             ],
             [
              0.3333333333333333,
              "#9c179e"
             ],
             [
              0.4444444444444444,
              "#bd3786"
             ],
             [
              0.5555555555555556,
              "#d8576b"
             ],
             [
              0.6666666666666666,
              "#ed7953"
             ],
             [
              0.7777777777777778,
              "#fb9f3a"
             ],
             [
              0.8888888888888888,
              "#fdca26"
             ],
             [
              1,
              "#f0f921"
             ]
            ],
            "type": "heatmap"
           }
          ],
          "histogram": [
           {
            "marker": {
             "pattern": {
              "fillmode": "overlay",
              "size": 10,
              "solidity": 0.2
             }
            },
            "type": "histogram"
           }
          ],
          "histogram2d": [
           {
            "colorbar": {
             "outlinewidth": 0,
             "ticks": ""
            },
            "colorscale": [
             [
              0,
              "#0d0887"
             ],
             [
              0.1111111111111111,
              "#46039f"
             ],
             [
              0.2222222222222222,
              "#7201a8"
             ],
             [
              0.3333333333333333,
              "#9c179e"
             ],
             [
              0.4444444444444444,
              "#bd3786"
             ],
             [
              0.5555555555555556,
              "#d8576b"
             ],
             [
              0.6666666666666666,
              "#ed7953"
             ],
             [
              0.7777777777777778,
              "#fb9f3a"
             ],
             [
              0.8888888888888888,
              "#fdca26"
             ],
             [
              1,
              "#f0f921"
             ]
            ],
            "type": "histogram2d"
           }
          ],
          "histogram2dcontour": [
           {
            "colorbar": {
             "outlinewidth": 0,
             "ticks": ""
            },
            "colorscale": [
             [
              0,
              "#0d0887"
             ],
             [
              0.1111111111111111,
              "#46039f"
             ],
             [
              0.2222222222222222,
              "#7201a8"
             ],
             [
              0.3333333333333333,
              "#9c179e"
             ],
             [
              0.4444444444444444,
              "#bd3786"
             ],
             [
              0.5555555555555556,
              "#d8576b"
             ],
             [
              0.6666666666666666,
              "#ed7953"
             ],
             [
              0.7777777777777778,
              "#fb9f3a"
             ],
             [
              0.8888888888888888,
              "#fdca26"
             ],
             [
              1,
              "#f0f921"
             ]
            ],
            "type": "histogram2dcontour"
           }
          ],
          "mesh3d": [
           {
            "colorbar": {
             "outlinewidth": 0,
             "ticks": ""
            },
            "type": "mesh3d"
           }
          ],
          "parcoords": [
           {
            "line": {
             "colorbar": {
              "outlinewidth": 0,
              "ticks": ""
             }
            },
            "type": "parcoords"
           }
          ],
          "pie": [
           {
            "automargin": true,
            "type": "pie"
           }
          ],
          "scatter": [
           {
            "fillpattern": {
             "fillmode": "overlay",
             "size": 10,
             "solidity": 0.2
            },
            "type": "scatter"
           }
          ],
          "scatter3d": [
           {
            "line": {
             "colorbar": {
              "outlinewidth": 0,
              "ticks": ""
             }
            },
            "marker": {
             "colorbar": {
              "outlinewidth": 0,
              "ticks": ""
             }
            },
            "type": "scatter3d"
           }
          ],
          "scattercarpet": [
           {
            "marker": {
             "colorbar": {
              "outlinewidth": 0,
              "ticks": ""
             }
            },
            "type": "scattercarpet"
           }
          ],
          "scattergeo": [
           {
            "marker": {
             "colorbar": {
              "outlinewidth": 0,
              "ticks": ""
             }
            },
            "type": "scattergeo"
           }
          ],
          "scattergl": [
           {
            "marker": {
             "colorbar": {
              "outlinewidth": 0,
              "ticks": ""
             }
            },
            "type": "scattergl"
           }
          ],
          "scattermap": [
           {
            "marker": {
             "colorbar": {
              "outlinewidth": 0,
              "ticks": ""
             }
            },
            "type": "scattermap"
           }
          ],
          "scattermapbox": [
           {
            "marker": {
             "colorbar": {
              "outlinewidth": 0,
              "ticks": ""
             }
            },
            "type": "scattermapbox"
           }
          ],
          "scatterpolar": [
           {
            "marker": {
             "colorbar": {
              "outlinewidth": 0,
              "ticks": ""
             }
            },
            "type": "scatterpolar"
           }
          ],
          "scatterpolargl": [
           {
            "marker": {
             "colorbar": {
              "outlinewidth": 0,
              "ticks": ""
             }
            },
            "type": "scatterpolargl"
           }
          ],
          "scatterternary": [
           {
            "marker": {
             "colorbar": {
              "outlinewidth": 0,
              "ticks": ""
             }
            },
            "type": "scatterternary"
           }
          ],
          "surface": [
           {
            "colorbar": {
             "outlinewidth": 0,
             "ticks": ""
            },
            "colorscale": [
             [
              0,
              "#0d0887"
             ],
             [
              0.1111111111111111,
              "#46039f"
             ],
             [
              0.2222222222222222,
              "#7201a8"
             ],
             [
              0.3333333333333333,
              "#9c179e"
             ],
             [
              0.4444444444444444,
              "#bd3786"
             ],
             [
              0.5555555555555556,
              "#d8576b"
             ],
             [
              0.6666666666666666,
              "#ed7953"
             ],
             [
              0.7777777777777778,
              "#fb9f3a"
             ],
             [
              0.8888888888888888,
              "#fdca26"
             ],
             [
              1,
              "#f0f921"
             ]
            ],
            "type": "surface"
           }
          ],
          "table": [
           {
            "cells": {
             "fill": {
              "color": "#EBF0F8"
             },
             "line": {
              "color": "white"
             }
            },
            "header": {
             "fill": {
              "color": "#C8D4E3"
             },
             "line": {
              "color": "white"
             }
            },
            "type": "table"
           }
          ]
         },
         "layout": {
          "annotationdefaults": {
           "arrowcolor": "#2a3f5f",
           "arrowhead": 0,
           "arrowwidth": 1
          },
          "autotypenumbers": "strict",
          "coloraxis": {
           "colorbar": {
            "outlinewidth": 0,
            "ticks": ""
           }
          },
          "colorscale": {
           "diverging": [
            [
             0,
             "#8e0152"
            ],
            [
             0.1,
             "#c51b7d"
            ],
            [
             0.2,
             "#de77ae"
            ],
            [
             0.3,
             "#f1b6da"
            ],
            [
             0.4,
             "#fde0ef"
            ],
            [
             0.5,
             "#f7f7f7"
            ],
            [
             0.6,
             "#e6f5d0"
            ],
            [
             0.7,
             "#b8e186"
            ],
            [
             0.8,
             "#7fbc41"
            ],
            [
             0.9,
             "#4d9221"
            ],
            [
             1,
             "#276419"
            ]
           ],
           "sequential": [
            [
             0,
             "#0d0887"
            ],
            [
             0.1111111111111111,
             "#46039f"
            ],
            [
             0.2222222222222222,
             "#7201a8"
            ],
            [
             0.3333333333333333,
             "#9c179e"
            ],
            [
             0.4444444444444444,
             "#bd3786"
            ],
            [
             0.5555555555555556,
             "#d8576b"
            ],
            [
             0.6666666666666666,
             "#ed7953"
            ],
            [
             0.7777777777777778,
             "#fb9f3a"
            ],
            [
             0.8888888888888888,
             "#fdca26"
            ],
            [
             1,
             "#f0f921"
            ]
           ],
           "sequentialminus": [
            [
             0,
             "#0d0887"
            ],
            [
             0.1111111111111111,
             "#46039f"
            ],
            [
             0.2222222222222222,
             "#7201a8"
            ],
            [
             0.3333333333333333,
             "#9c179e"
            ],
            [
             0.4444444444444444,
             "#bd3786"
            ],
            [
             0.5555555555555556,
             "#d8576b"
            ],
            [
             0.6666666666666666,
             "#ed7953"
            ],
            [
             0.7777777777777778,
             "#fb9f3a"
            ],
            [
             0.8888888888888888,
             "#fdca26"
            ],
            [
             1,
             "#f0f921"
            ]
           ]
          },
          "colorway": [
           "#636efa",
           "#EF553B",
           "#00cc96",
           "#ab63fa",
           "#FFA15A",
           "#19d3f3",
           "#FF6692",
           "#B6E880",
           "#FF97FF",
           "#FECB52"
          ],
          "font": {
           "color": "#2a3f5f"
          },
          "geo": {
           "bgcolor": "white",
           "lakecolor": "white",
           "landcolor": "#E5ECF6",
           "showlakes": true,
           "showland": true,
           "subunitcolor": "white"
          },
          "hoverlabel": {
           "align": "left"
          },
          "hovermode": "closest",
          "mapbox": {
           "style": "light"
          },
          "paper_bgcolor": "white",
          "plot_bgcolor": "#E5ECF6",
          "polar": {
           "angularaxis": {
            "gridcolor": "white",
            "linecolor": "white",
            "ticks": ""
           },
           "bgcolor": "#E5ECF6",
           "radialaxis": {
            "gridcolor": "white",
            "linecolor": "white",
            "ticks": ""
           }
          },
          "scene": {
           "xaxis": {
            "backgroundcolor": "#E5ECF6",
            "gridcolor": "white",
            "gridwidth": 2,
            "linecolor": "white",
            "showbackground": true,
            "ticks": "",
            "zerolinecolor": "white"
           },
           "yaxis": {
            "backgroundcolor": "#E5ECF6",
            "gridcolor": "white",
            "gridwidth": 2,
            "linecolor": "white",
            "showbackground": true,
            "ticks": "",
            "zerolinecolor": "white"
           },
           "zaxis": {
            "backgroundcolor": "#E5ECF6",
            "gridcolor": "white",
            "gridwidth": 2,
            "linecolor": "white",
            "showbackground": true,
            "ticks": "",
            "zerolinecolor": "white"
           }
          },
          "shapedefaults": {
           "line": {
            "color": "#2a3f5f"
           }
          },
          "ternary": {
           "aaxis": {
            "gridcolor": "white",
            "linecolor": "white",
            "ticks": ""
           },
           "baxis": {
            "gridcolor": "white",
            "linecolor": "white",
            "ticks": ""
           },
           "bgcolor": "#E5ECF6",
           "caxis": {
            "gridcolor": "white",
            "linecolor": "white",
            "ticks": ""
           }
          },
          "title": {
           "x": 0.05
          },
          "xaxis": {
           "automargin": true,
           "gridcolor": "white",
           "linecolor": "white",
           "ticks": "",
           "title": {
            "standoff": 15
           },
           "zerolinecolor": "white",
           "zerolinewidth": 2
          },
          "yaxis": {
           "automargin": true,
           "gridcolor": "white",
           "linecolor": "white",
           "ticks": "",
           "title": {
            "standoff": 15
           },
           "zerolinecolor": "white",
           "zerolinewidth": 2
          }
         }
        },
        "title": {
         "text": "PCA of the labeled data"
        },
        "xaxis": {
         "anchor": "y",
         "domain": [
          0,
          1
         ],
         "title": {
          "text": "PCA Component 1"
         }
        },
        "yaxis": {
         "anchor": "x",
         "domain": [
          0,
          1
         ],
         "title": {
          "text": "PCA Component 2"
         }
        }
       }
      }
     },
     "metadata": {},
     "output_type": "display_data"
    }
   ],
   "source": [
    "# visualize the embedding of the labeled data vs the unlabeled data\n",
    "pca_labeled_data_x = pca.transform(labeled_data_x_train)\n",
    "pca_not_labeled_data_x = pca.transform(not_labeled_data_x_train)\n",
    "fig = px.scatter(x=pca_labeled_data_x[:, 0], y=pca_labeled_data_x[:, 1], color=labeled_data_y_train, title=\"PCA of the labeled data\")\n",
    "fig.add_trace(go.Scatter(x=pca_not_labeled_data_x[:, 0], y=pca_not_labeled_data_x[:, 1], mode='markers', name='Unlabeled Data', marker=dict(color='grey', size=5, symbol='x')))\n",
    "fig.update_layout(xaxis_title='PCA Component 1', yaxis_title='PCA Component 2')\n",
    "fig.show()"
   ]
  },
  {
   "cell_type": "code",
   "execution_count": 33,
   "id": "9b95189b",
   "metadata": {},
   "outputs": [
    {
     "name": "stdout",
     "output_type": "stream",
     "text": [
      "ROC AUC Score (Labeled Data): 0.718475073313783\n",
      "ROC AUC Score (all Data): 0.5839342948717948\n"
     ]
    }
   ],
   "source": [
    "# split the labeled data into training and testing sets\n",
    "train_data_labeled_x, test_data_labeled_x, train_data_labeled_y, test_data_labeled_y = train_test_split(labeled_data_x, labeled_data_y, test_size=0.4, random_state=42)\n",
    "\n",
    "# train a model on the labeled data\n",
    "outcome_model = MLPClassifier(hidden_layer_sizes=(10), max_iter=50, random_state=42, early_stopping=True, validation_fraction=0.2, n_iter_no_change=10)\n",
    "outcome_model.fit(train_data_labeled_x, train_data_labeled_y)\n",
    "scores_outcome_model = outcome_model.predict_proba(test_data_labeled_x)\n",
    "print(\"ROC AUC Score (Labeled Data):\", roc_auc_score(test_data_labeled_y, scores_outcome_model[:, 1]))\n",
    "print(\"ROC AUC Score (all Data):\", roc_auc_score(test_split_y, outcome_model.predict_proba(test_split_x)[:, 1]))"
   ]
  },
  {
   "cell_type": "code",
   "execution_count": 36,
   "id": "7598dd7e",
   "metadata": {},
   "outputs": [
    {
     "name": "stdout",
     "output_type": "stream",
     "text": [
      "ROC AUC Score (Labeled Data): 0.9296187683284458\n",
      "ROC AUC Score (all Data): 0.7720352564102564\n"
     ]
    }
   ],
   "source": [
    "all_train_x = np.concatenate((train_data_labeled_x, not_labeled_data_x_train), axis=0)\n",
    "all_train_y = np.concatenate((train_data_labeled_y, not_labeled_data_y_train), axis=0)\n",
    "all_test_x = np.concatenate((test_data_labeled_x, test_data_not_labeled_x), axis=0)\n",
    "all_test_y = np.concatenate((test_data_labeled_y, test_data_not_labeled_y), axis=0)\n",
    "\n",
    "e_X = propensity_model.predict_proba(all_train_x)[:, 1]\n",
    "e_X = np.clip(e_X, 1e-3, 1 - 1e-3)\n",
    "T = np.concatenate((np.ones(len(train_data_labeled_x)), np.zeros(len(not_labeled_data_x_train))), axis=0)  # 1 for labeled, 0 for not labeled\n",
    "\n",
    "# Schritt 2: Gewicht berechnen\n",
    "weights = T / e_X + (1 - T) / (1 - e_X)\n",
    "\n",
    "# Schritt 3: Outcome-Model trainieren mit gewichteter Regression\n",
    "new_outcome_model = MLPClassifier(hidden_layer_sizes=(10), max_iter=1_000, random_state=42, early_stopping=True, validation_fraction=0.2, n_iter_no_change=10)\n",
    "new_outcome_model.fit(np.hstack([all_train_x, T.reshape(-1, 1)]), all_train_y, sample_weight=weights)\n",
    "\n",
    "# Predict the outcome using the new outcome model\n",
    "scores_outcome_model = new_outcome_model.predict_proba(np.hstack([test_data_labeled_x, propensity_model.predict_proba(test_data_labeled_x)[:, 1].reshape(-1, 1)]))\n",
    "print(\"ROC AUC Score (Labeled Data):\", roc_auc_score(test_data_labeled_y, scores_outcome_model[:, 1]))\n",
    "print(\"ROC AUC Score (all Data):\", roc_auc_score(test_split_y, new_outcome_model.predict_proba(np.hstack([test_split_x, propensity_model.predict_proba(test_split_x)[:, 1].reshape(-1, 1)]))[:, 1]))"
   ]
  }
 ],
 "metadata": {
  "kernelspec": {
   "display_name": ".venv",
   "language": "python",
   "name": "python3"
  },
  "language_info": {
   "codemirror_mode": {
    "name": "ipython",
    "version": 3
   },
   "file_extension": ".py",
   "mimetype": "text/x-python",
   "name": "python",
   "nbconvert_exporter": "python",
   "pygments_lexer": "ipython3",
   "version": "3.10.11"
  }
 },
 "nbformat": 4,
 "nbformat_minor": 5
}
